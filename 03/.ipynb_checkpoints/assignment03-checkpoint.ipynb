{
 "cells": [
  {
   "cell_type": "markdown",
   "id": "3fd4f1ee",
   "metadata": {},
   "source": [
    "# Domácí úkol č. 3 - 📈 Vizualizace ve strojovém učení od A do Z\n",
    "\n",
    "## 📚 Data\n",
    "Pro tento úkol si studenti **zvolí vhodná data sami**. ☝️ Zvolená data by měla být veřejně dostupná a měla by simulovat nebo odpovídat nějaké reálné situaci (tzn. syntetická/vygenerovaná data neuvažujeme!). Data si vybírejte tak, abyste na nich byli schopni řešit klasifikační nebo regresní úlohu (tedy supervizované učení, přítomnost výstupní proměnné). \n",
    "\n",
    "**Pro odvážné:** Pokud se cítíte silní v kramflecích, můžete si zvolit i nesupervizovanou úlohu, např. shlukování.\n",
    "\n",
    "#### Tipy na data a řešení\n",
    "V souboru datasets_tips.md můžete najít tipy na různé veřejné weby s datasety.\n",
    "\n",
    "Inspiraci pro vypracování úkolu najdete v praktických ukázkách k přednáškám č. 8 (cvičení 4) a 11. Nicméně pouze zkopírovaný kód nebude hodnocen kladně.\n",
    "\n",
    "☝️**Pozor!** Zkuste si zvolit trochu nápaditý dataset. Pokud si zvolíte dataset, který je často součástí tutoriálů (např. [Titanic dataset](https://www.tensorflow.org/datasets/catalog/titanic) nebo [Iris dataset](https://scikit-learn.org/stable/modules/generated/sklearn.datasets.load_iris.html#sklearn.datasets.load_iris)), pro zisk plného počtu bodů budete muset zřejmě vynaložit větší úsilí při jeho kreativní a neotřelé prezentaci.\n",
    "\n",
    "## Zadání\n",
    "> ☝️ Používejte **markdown buňky**! Zdůvodňujte všechny důležité kroky, popisujte vizualizace a co je z nich možné pozorovat. Za nepřehledný domácí úkol nebudou uděleny body.\n",
    "\n",
    "Za řádné průběžné komentování a vizuální prezentaci postupu a výsledků lze získat až 5 bodů. Notebook odevzdávejte po spuštění (tzn. včetně output buněk) a zkrontrolujte si, že se komentáře korektně zobrazují ('rendered file' na GitLabu ve vašem prohlížeči).\n",
    "\n",
    "Úkol můžete vypracovávat jako **jednotlivci** nebo **ve skupině maximálně 3 spolužáků**. Postup pro hodnocení skupiny najdete na stránkách předmětu [zde](https://courses.fit.cvut.cz/BI-VIZ/homeworks/index.html#_podrobnosti-k-hodnocen%C3%AD-třet%C3%ADho-úkolu).\n",
    "\n",
    "### Pokyny pro vypracování\n",
    "\n",
    "🙏 Pokud je to možné, v každém bodě vaší práce **využijte vizualizace** a svá zjištění komentujte.\n",
    "\n",
    "**📖 Vaše úloha:**\n",
    "1. Popište klasifikační/regresní úlohu, kterou v rámci domácího úkolu budete řešit.\n",
    "2. Uveďte zdroj, odkud čerpáte data. ⛔️ Pozn.: Pokud pracujete s lokálně uloženým datasetem, odevzdejte jej spolu s vyřešeným Jupyter Notebookem prostřednictvím GitLabu. To aby s daty mohl pracovat i vyučující při opravě.\n",
    "\n",
    "**✨ Dataset:**\n",
    "V této části máte za úkol načíst zvolená data a pomocí vizualizace a popisných statistik se s nimi seznámit. Dále je nutné data vhodným způsobem předzpracovat, abyste je mohli použít pro trénování modelu.\n",
    "1. Načtěte si zvolený dataset a importujte potřebné knihovny. Volba knihoven je na vás.\n",
    "2. Představte jednotlivé příznaky pomocí textových popisů.\n",
    "3. Analyzujte dataset pomocí popisných statistik s využitím vhodných vizualizačních metod. Svá zjištění komentujte.\n",
    "4. Vyšetřete chybějící hodnoty (včetně jejich reprezentace) a odlehlá pozorování. Opět využijte vizualizace, pokud je to možné a svá zjištění komentujte.\n",
    "5. Proveďte všechny další úpravy, které jsou podle vás pro práci s vybraným datasetem nezbytné (např. konverze datových typů, odstranění duplicitních údajů, vytvoření nových příznaků, sjednocení reprezentace chybějících dat nebo jejich odstranění apod.). K úpravě datasetu se můžete v průběhu řešení úlohy vracet.\n",
    "6. Připravte dataset tak, abyste na něm mohli natrénovat a vyhodnotit vybraný model (např. data vhodně rozdělte, pokud je to pro váš model a evaluaci nutné, rozdělení komentujte, nebo můžete využít křížovou validaci apod. -> znáte z BI-ML1).\n",
    "\n",
    "Z této části lze získat celkem 7 bodů.\n",
    "\n",
    "**⚙️Model:**\n",
    "V této části je vaším úkolem natrénovat model, který se pokusí vyřešit vaši úlohu. Zaměřte se především na vizualizaci jednotlivých kroků a výsledků, včetně komentářů. Kvalita modelu jako takového nebude hodnocena.\n",
    "1. Pro svoji úlohu zvolte vhodný klasifikační/regresní model.\n",
    "2. Zvolte si alespoň dva hyperparametry spolu s minimálně pěti hodnotami (zde může být i více, případně méně v závislosti na zvoleném hyperparametru), jejichž nejlepší kombinaci budete během trénování modelu hledat. Zvolené hyperparametry a jejich hodnoty popište.\n",
    "3. Zvolte a popište ztrátovou funkci, pomocí které provedete vyhodnocení úspěšnosti modelu.\n",
    "4. Daný model na datasetu natrénujte. Pokud to lze, model vizualizujte.\n",
    "5. Vhodně vizualizujte a komentujte vliv jednotlivých kombinací hyperparamentrů na úspěšnost modelu. Uveďte nejlepší kombinaci.\n",
    "6. Pokud to lze (!), vizualizujte rozhodovací hranici modelu pro vámi vybrané příznaky (např. pouze pro 2). Pokud to nelze, zdůvodněte, případně realizujte jinou viualizaci související s prezentací nejlepšího modelu.\n",
    "7. Vhodně vizualizujte úspěšnost výsledného modelu - využijte alespoň dvě vizualizační metody.\n",
    "\n",
    "**Pro zájemce:** Pokud byste chtěli, můžete pro řešení úlohy použít modelů více a provést jejich srovnání (včetně ladění hyperparametrů a dalších kroků zmíněných výše).\n",
    "\n",
    "Z této části lze získat celkem 18 bodů.\n",
    "\n",
    "### Bodové hodnocení\n",
    "Shrnutí bodů, které můžete nejvýše získat:\n",
    "- 5 bodů za průběžné komentáře a vizuální prezentaci postupu a výsledků,\n",
    "- 7 bodů za předzpracování a prezentaci dat,\n",
    "- 18 bodů za trénování a vyhodnocení modelu.\n",
    "\n",
    "Celkem lze za domácí úkol č. 3 získat maximálně 30 bodů (každý člen týmu nebo jednotlivec)."
   ]
  },
  {
   "cell_type": "code",
   "execution_count": null,
   "id": "a81cdca2",
   "metadata": {},
   "outputs": [],
   "source": [
    "# a teď už je to na vás 💪\n",
    "# níže vložte své řešení"
   ]
  }
 ],
 "metadata": {
  "kernelspec": {
   "display_name": "Python 3 (ipykernel)",
   "language": "python",
   "name": "python3"
  },
  "language_info": {
   "codemirror_mode": {
    "name": "ipython",
    "version": 3
   },
   "file_extension": ".py",
   "mimetype": "text/x-python",
   "name": "python",
   "nbconvert_exporter": "python",
   "pygments_lexer": "ipython3",
   "version": "3.9.12"
  }
 },
 "nbformat": 4,
 "nbformat_minor": 5
}
